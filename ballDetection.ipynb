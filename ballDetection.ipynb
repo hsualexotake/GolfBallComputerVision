{
  "cells": [
    {
      "cell_type": "code",
      "execution_count": null,
      "metadata": {
        "id": "PRrlk1Jv5505"
      },
      "outputs": [],
      "source": [
        "from google.colab import drive\n",
        "!pip install ultralytics\n",
        "drive.mount('/content/drive')"
      ]
    },
    {
      "cell_type": "code",
      "execution_count": null,
      "metadata": {
        "id": "Dt9wUc1X6EpF"
      },
      "outputs": [],
      "source": [
        "base_path = '/content/drive/MyDrive/Golfball'\n",
        "data_folder = 'gdata2' # holds folder for test, valid, and train data\n",
        "\n",
        "full_path = f'{base_path}/{data_folder}'\n",
        "\n",
        "\n",
        "!ls \"{full_path}\"\n"
      ]
    },
    {
      "cell_type": "code",
      "execution_count": null,
      "metadata": {
        "id": "BV6b5N8x6SWp"
      },
      "outputs": [],
      "source": [
        "import os\n",
        "\n",
        "from ultralytics import YOLO\n",
        "\n",
        "model = YOLO(\"yolov8m.pt\")  # loading a pretrained model (best for training)"
      ]
    },
    {
      "cell_type": "code",
      "source": [
        "model.train(data='/content/drive/MyDrive/Golfball/data.yaml', epochs=1)"
      ],
      "metadata": {
        "id": "4IwabclGW8C5"
      },
      "execution_count": null,
      "outputs": []
    },
    {
      "cell_type": "code",
      "execution_count": null,
      "metadata": {
        "id": "OZTRNuKI6qF3"
      },
      "outputs": [],
      "source": [
        "import locale\n",
        "locale.getpreferredencoding = lambda: \"UTF-8\""
      ]
    },
    {
      "cell_type": "code",
      "execution_count": null,
      "metadata": {
        "id": "FP8xxxhM6rGL"
      },
      "outputs": [],
      "source": [
        "!scp -r /content/runs '/content/drive/MyDrive/Golfball'"
      ]
    },
    {
      "cell_type": "code",
      "execution_count": null,
      "metadata": {
        "id": "VpGt8hImRu_V"
      },
      "outputs": [],
      "source": [
        "infer = YOLO(\"/content/drive/MyDrive/Golfball/runs/detect/train/weights/best.pt\")"
      ]
    },
    {
      "cell_type": "code",
      "source": [
        "results = infer.predict(\"/content/drive/MyDrive/Golfball/gdata2/test/images\", save=True)"
      ],
      "metadata": {
        "id": "Z4EGxceMLKIi"
      },
      "execution_count": null,
      "outputs": []
    },
    {
      "cell_type": "code",
      "execution_count": null,
      "metadata": {
        "id": "01qPu9CLogsy"
      },
      "outputs": [],
      "source": [
        "infer.predict(\"/content/drive/MyDrive/Golfball/gdata2/test/images\", save = True, visualize = True)\n",
        "\n",
        "#predict(\"/content/drive/MyDrive/Golfball/gdata2/test/images\", x, profile=False, visualize=True, batch=None, augment=False):"
      ]
    },
    {
      "cell_type": "code",
      "execution_count": null,
      "metadata": {
        "id": "kC_O9IblpZSa"
      },
      "outputs": [],
      "source": [
        "!scp -r /content/runs '/content/drive/MyDrive/Golfball'"
      ]
    },
    {
      "cell_type": "code",
      "execution_count": null,
      "metadata": {
        "id": "xBWDDGMCqGXc"
      },
      "outputs": [],
      "source": [
        "# Predicts location of the golfball in each frame in the source video based off of model with updated weights\n",
        "\n",
        "!yolo detect predict model= \"/content/drive/MyDrive/Golfball/runs/detect/train2/weights/best.pt\" source = \"/testervid717.mp4\""
      ]
    },
    {
      "cell_type": "code",
      "execution_count": null,
      "metadata": {
        "id": "rngnBBdnrcd6"
      },
      "outputs": [],
      "source": [
        "!scp -r /content/runs '/content/drive/MyDrive/Golfball'"
      ]
    },
    {
      "cell_type": "code",
      "execution_count": null,
      "metadata": {
        "id": "jXv_REmBrvYB"
      },
      "outputs": [],
      "source": [
        "!ffmpeg -i {\"/content/drive/MyDrive/Golfball/runs/detect/predict2/golfswing9.avi\"} -vcodec libx265 {\"winstonswing1predvid.mp4\"}"
      ]
    }
  ],
  "metadata": {
    "accelerator": "GPU",
    "colab": {
      "provenance": [],
      "machine_shape": "hm",
      "gpuType": "T4"
    },
    "kernelspec": {
      "display_name": "Python 3",
      "name": "python3"
    },
    "language_info": {
      "name": "python"
    }
  },
  "nbformat": 4,
  "nbformat_minor": 0
}